{
 "cells": [
  {
   "cell_type": "code",
<<<<<<< HEAD
   "execution_count": 1,
=======
   "execution_count": 138,
>>>>>>> 021e036af8a452104ccd2b26946f07e7e3937c89
   "metadata": {},
   "outputs": [],
   "source": [
    "import pandas as pd\n",
    "from sklearn.model_selection import train_test_split\n",
    "from sklearn.preprocessing import OneHotEncoder\n",
    "import numpy as np"
   ]
  },
  {
   "cell_type": "code",
<<<<<<< HEAD
   "execution_count": 2,
=======
   "execution_count": 139,
>>>>>>> 021e036af8a452104ccd2b26946f07e7e3937c89
   "metadata": {},
   "outputs": [
    {
     "data": {
      "text/html": [
       "<div>\n",
       "<style scoped>\n",
       "    .dataframe tbody tr th:only-of-type {\n",
       "        vertical-align: middle;\n",
       "    }\n",
       "\n",
       "    .dataframe tbody tr th {\n",
       "        vertical-align: top;\n",
       "    }\n",
       "\n",
       "    .dataframe thead th {\n",
       "        text-align: right;\n",
       "    }\n",
       "</style>\n",
       "<table border=\"1\" class=\"dataframe\">\n",
       "  <thead>\n",
       "    <tr style=\"text-align: right;\">\n",
       "      <th></th>\n",
       "      <th>Name</th>\n",
       "      <th>Age</th>\n",
       "      <th>Gender</th>\n",
       "      <th>Blood Type</th>\n",
       "      <th>Medical Condition</th>\n",
       "      <th>Date of Admission</th>\n",
       "      <th>Doctor</th>\n",
       "      <th>Hospital</th>\n",
       "      <th>Insurance Provider</th>\n",
       "      <th>Billing Amount</th>\n",
       "      <th>Room Number</th>\n",
       "      <th>Admission Type</th>\n",
       "      <th>Discharge Date</th>\n",
       "      <th>Medication</th>\n",
       "      <th>Test Results</th>\n",
       "    </tr>\n",
       "  </thead>\n",
       "  <tbody>\n",
       "    <tr>\n",
       "      <th>0</th>\n",
       "      <td>Bobby JacksOn</td>\n",
       "      <td>30</td>\n",
       "      <td>Male</td>\n",
       "      <td>B-</td>\n",
       "      <td>Cancer</td>\n",
       "      <td>2024-01-31</td>\n",
       "      <td>Matthew Smith</td>\n",
       "      <td>Sons and Miller</td>\n",
       "      <td>Blue Cross</td>\n",
       "      <td>18856.281306</td>\n",
       "      <td>328</td>\n",
       "      <td>Urgent</td>\n",
       "      <td>2024-02-02</td>\n",
       "      <td>Paracetamol</td>\n",
       "      <td>Normal</td>\n",
       "    </tr>\n",
       "    <tr>\n",
       "      <th>1</th>\n",
       "      <td>LesLie TErRy</td>\n",
       "      <td>62</td>\n",
       "      <td>Male</td>\n",
       "      <td>A+</td>\n",
       "      <td>Obesity</td>\n",
       "      <td>2019-08-20</td>\n",
       "      <td>Samantha Davies</td>\n",
       "      <td>Kim Inc</td>\n",
       "      <td>Medicare</td>\n",
       "      <td>33643.327287</td>\n",
       "      <td>265</td>\n",
       "      <td>Emergency</td>\n",
       "      <td>2019-08-26</td>\n",
       "      <td>Ibuprofen</td>\n",
       "      <td>Inconclusive</td>\n",
       "    </tr>\n",
       "    <tr>\n",
       "      <th>2</th>\n",
       "      <td>DaNnY sMitH</td>\n",
       "      <td>76</td>\n",
       "      <td>Female</td>\n",
       "      <td>A-</td>\n",
       "      <td>Obesity</td>\n",
       "      <td>2022-09-22</td>\n",
       "      <td>Tiffany Mitchell</td>\n",
       "      <td>Cook PLC</td>\n",
       "      <td>Aetna</td>\n",
       "      <td>27955.096079</td>\n",
       "      <td>205</td>\n",
       "      <td>Emergency</td>\n",
       "      <td>2022-10-07</td>\n",
       "      <td>Aspirin</td>\n",
       "      <td>Normal</td>\n",
       "    </tr>\n",
       "    <tr>\n",
       "      <th>3</th>\n",
       "      <td>andrEw waTtS</td>\n",
       "      <td>28</td>\n",
       "      <td>Female</td>\n",
       "      <td>O+</td>\n",
       "      <td>Diabetes</td>\n",
       "      <td>2020-11-18</td>\n",
       "      <td>Kevin Wells</td>\n",
       "      <td>Hernandez Rogers and Vang,</td>\n",
       "      <td>Medicare</td>\n",
       "      <td>37909.782410</td>\n",
       "      <td>450</td>\n",
       "      <td>Elective</td>\n",
       "      <td>2020-12-18</td>\n",
       "      <td>Ibuprofen</td>\n",
       "      <td>Abnormal</td>\n",
       "    </tr>\n",
       "    <tr>\n",
       "      <th>4</th>\n",
       "      <td>adrIENNE bEll</td>\n",
       "      <td>43</td>\n",
       "      <td>Female</td>\n",
       "      <td>AB+</td>\n",
       "      <td>Cancer</td>\n",
       "      <td>2022-09-19</td>\n",
       "      <td>Kathleen Hanna</td>\n",
       "      <td>White-White</td>\n",
       "      <td>Aetna</td>\n",
       "      <td>14238.317814</td>\n",
       "      <td>458</td>\n",
       "      <td>Urgent</td>\n",
       "      <td>2022-10-09</td>\n",
       "      <td>Penicillin</td>\n",
       "      <td>Abnormal</td>\n",
       "    </tr>\n",
       "  </tbody>\n",
       "</table>\n",
       "</div>"
      ],
      "text/plain": [
       "            Name  Age  Gender Blood Type Medical Condition Date of Admission  \\\n",
       "0  Bobby JacksOn   30    Male         B-            Cancer        2024-01-31   \n",
       "1   LesLie TErRy   62    Male         A+           Obesity        2019-08-20   \n",
       "2    DaNnY sMitH   76  Female         A-           Obesity        2022-09-22   \n",
       "3   andrEw waTtS   28  Female         O+          Diabetes        2020-11-18   \n",
       "4  adrIENNE bEll   43  Female        AB+            Cancer        2022-09-19   \n",
       "\n",
       "             Doctor                    Hospital Insurance Provider  \\\n",
       "0     Matthew Smith             Sons and Miller         Blue Cross   \n",
       "1   Samantha Davies                     Kim Inc           Medicare   \n",
       "2  Tiffany Mitchell                    Cook PLC              Aetna   \n",
       "3       Kevin Wells  Hernandez Rogers and Vang,           Medicare   \n",
       "4    Kathleen Hanna                 White-White              Aetna   \n",
       "\n",
       "   Billing Amount  Room Number Admission Type Discharge Date   Medication  \\\n",
       "0    18856.281306          328         Urgent     2024-02-02  Paracetamol   \n",
       "1    33643.327287          265      Emergency     2019-08-26    Ibuprofen   \n",
       "2    27955.096079          205      Emergency     2022-10-07      Aspirin   \n",
       "3    37909.782410          450       Elective     2020-12-18    Ibuprofen   \n",
       "4    14238.317814          458         Urgent     2022-10-09   Penicillin   \n",
       "\n",
       "   Test Results  \n",
       "0        Normal  \n",
       "1  Inconclusive  \n",
       "2        Normal  \n",
       "3      Abnormal  \n",
       "4      Abnormal  "
      ]
     },
<<<<<<< HEAD
     "execution_count": 2,
=======
     "execution_count": 139,
>>>>>>> 021e036af8a452104ccd2b26946f07e7e3937c89
     "metadata": {},
     "output_type": "execute_result"
    }
   ],
   "source": [
    "#Muestra los primeros datos del dataset\n",
    "raw_data = pd.read_csv(\"../raw/healthcare_dataset.csv\")\n",
    "raw_data.head(5)"
   ]
  },
  {
   "cell_type": "code",
<<<<<<< HEAD
   "execution_count": 3,
=======
   "execution_count": 140,
>>>>>>> 021e036af8a452104ccd2b26946f07e7e3937c89
   "metadata": {},
   "outputs": [
    {
     "data": {
      "text/plain": [
       "(55500, 15)"
      ]
     },
<<<<<<< HEAD
     "execution_count": 3,
=======
     "execution_count": 140,
>>>>>>> 021e036af8a452104ccd2b26946f07e7e3937c89
     "metadata": {},
     "output_type": "execute_result"
    }
   ],
   "source": [
    "#Se obtienen las dimensiones del dataset\n",
    "raw_data.shape"
   ]
  },
  {
   "cell_type": "code",
<<<<<<< HEAD
   "execution_count": 4,
=======
   "execution_count": 141,
>>>>>>> 021e036af8a452104ccd2b26946f07e7e3937c89
   "metadata": {},
   "outputs": [
    {
     "data": {
      "text/plain": [
       "(55500, 15)"
      ]
     },
<<<<<<< HEAD
     "execution_count": 4,
=======
     "execution_count": 141,
>>>>>>> 021e036af8a452104ccd2b26946f07e7e3937c89
     "metadata": {},
     "output_type": "execute_result"
    }
   ],
   "source": [
    "#Se obtienen las dimensiones del dataset eliminando los valores nulos\n",
    "raw_data.dropna().shape"
   ]
  },
  {
   "cell_type": "code",
<<<<<<< HEAD
   "execution_count": 5,
=======
   "execution_count": 142,
>>>>>>> 021e036af8a452104ccd2b26946f07e7e3937c89
   "metadata": {},
   "outputs": [
    {
     "data": {
      "text/plain": [
       "Index(['Name', 'Age', 'Gender', 'Blood Type', 'Medical Condition',\n",
       "       'Date of Admission', 'Doctor', 'Hospital', 'Insurance Provider',\n",
       "       'Billing Amount', 'Room Number', 'Admission Type', 'Discharge Date',\n",
       "       'Medication', 'Test Results'],\n",
       "      dtype='object')"
      ]
     },
<<<<<<< HEAD
     "execution_count": 5,
=======
     "execution_count": 142,
>>>>>>> 021e036af8a452104ccd2b26946f07e7e3937c89
     "metadata": {},
     "output_type": "execute_result"
    }
   ],
   "source": [
    "#Se obtienen las columnas del dataset\n",
    "raw_data.columns"
   ]
  },
  {
   "cell_type": "code",
<<<<<<< HEAD
   "execution_count": 6,
=======
   "execution_count": 143,
>>>>>>> 021e036af8a452104ccd2b26946f07e7e3937c89
   "metadata": {},
   "outputs": [
    {
     "data": {
      "text/plain": [
       "Name                   object\n",
       "Age                     int64\n",
       "Gender                 object\n",
       "Blood Type             object\n",
       "Medical Condition      object\n",
       "Date of Admission      object\n",
       "Doctor                 object\n",
       "Hospital               object\n",
       "Insurance Provider     object\n",
       "Billing Amount        float64\n",
       "Room Number             int64\n",
       "Admission Type         object\n",
       "Discharge Date         object\n",
       "Medication             object\n",
       "Test Results           object\n",
       "dtype: object"
      ]
     },
<<<<<<< HEAD
     "execution_count": 6,
=======
     "execution_count": 143,
>>>>>>> 021e036af8a452104ccd2b26946f07e7e3937c89
     "metadata": {},
     "output_type": "execute_result"
    }
   ],
   "source": [
    "#Tipos de datos\n",
    "raw_data.dtypes"
   ]
  },
  {
   "cell_type": "code",
<<<<<<< HEAD
   "execution_count": 7,
=======
   "execution_count": 144,
>>>>>>> 021e036af8a452104ccd2b26946f07e7e3937c89
   "metadata": {},
   "outputs": [],
   "source": [
    "#Se filtran las columnas que se van a utilizar, en este caso se utilizan las columnas que puedan tener un impacto en el resultado\n",
    "filter_data_values = raw_data[['Age', 'Gender', 'Blood Type', 'Medical Condition', 'Admission Type', 'Medication', 'Test Results']]"
   ]
  },
  {
   "cell_type": "code",
<<<<<<< HEAD
   "execution_count": 8,
=======
   "execution_count": 145,
>>>>>>> 021e036af8a452104ccd2b26946f07e7e3937c89
   "metadata": {},
   "outputs": [
    {
     "data": {
      "text/plain": [
       "Test Results\n",
       "Abnormal        18627\n",
       "Normal          18517\n",
       "Inconclusive    18356\n",
       "Name: count, dtype: int64"
      ]
     },
<<<<<<< HEAD
     "execution_count": 8,
=======
     "execution_count": 145,
>>>>>>> 021e036af8a452104ccd2b26946f07e7e3937c89
     "metadata": {},
     "output_type": "execute_result"
    }
   ],
   "source": [
    "#Se filtran los datos que se desean utilizar como respuesta\n",
    "filter_data_values[\"Test Results\"].value_counts()"
   ]
  },
  {
   "cell_type": "code",
<<<<<<< HEAD
   "execution_count": 9,
=======
   "execution_count": 146,
>>>>>>> 021e036af8a452104ccd2b26946f07e7e3937c89
   "metadata": {},
   "outputs": [
    {
     "data": {
      "text/plain": [
       "Test Results\n",
       "Abnormal        18627\n",
       "Normal          18517\n",
       "Inconclusive    18356\n",
       "Name: count, dtype: int64"
      ]
     },
<<<<<<< HEAD
     "execution_count": 9,
=======
     "execution_count": 146,
>>>>>>> 021e036af8a452104ccd2b26946f07e7e3937c89
     "metadata": {},
     "output_type": "execute_result"
    }
   ],
   "source": [
    "#Se cuentan los valores que puede tomar la columna Test Results\n",
    "filter_data_values['Test Results'].value_counts()"
   ]
  },
  {
   "cell_type": "code",
<<<<<<< HEAD
   "execution_count": 10,
=======
   "execution_count": 147,
>>>>>>> 021e036af8a452104ccd2b26946f07e7e3937c89
   "metadata": {},
   "outputs": [],
   "source": [
    "#Se divide el set de datos entre los datos a usar y la respuesta\n",
    "response = filter_data_values[\"Test Results\"]\n",
    "data = filter_data_values.drop(columns=[\"Test Results\"])"
   ]
  },
  {
   "cell_type": "code",
<<<<<<< HEAD
   "execution_count": 11,
=======
   "execution_count": 148,
>>>>>>> 021e036af8a452104ccd2b26946f07e7e3937c89
   "metadata": {},
   "outputs": [],
   "source": [
    "#Se separan los datos en datos numericos y datos categoricos\n",
    "data_num = data.select_dtypes(exclude='object')\n",
    "data_object = data.select_dtypes(include='object')\n",
    "\n",
    "#Se instancia el objeto a utilizar para la codificacion de los datos categoricos y este se transforma a un dataframe\n",
    "#Pandas no soporta los datos sparse, por lo que se utiliza la opcion de sparse_output=False\n",
    "encoder = OneHotEncoder(sparse_output=False).set_output(transform=\"pandas\")"
   ]
  },
  {
   "cell_type": "code",
<<<<<<< HEAD
   "execution_count": 12,
=======
   "execution_count": 149,
>>>>>>> 021e036af8a452104ccd2b26946f07e7e3937c89
   "metadata": {},
   "outputs": [],
   "source": [
    "#Se codifican los datos categoricos por cada columna\n",
    "for col_name in data_object.columns:\n",
    "    encoded_array = encoder.fit_transform(data_object[[col_name]])\n",
    "    data_object = pd.concat([data_object, encoded_array], axis=1).drop(col_name, axis=1)"
   ]
  },
  {
   "cell_type": "code",
<<<<<<< HEAD
   "execution_count": 13,
=======
   "execution_count": 150,
>>>>>>> 021e036af8a452104ccd2b26946f07e7e3937c89
   "metadata": {},
   "outputs": [],
   "source": [
    "#Se unen los datos numericos y categoricos\n",
    "data= pd.concat([data_num, data_object], axis=1)"
   ]
  },
  {
   "cell_type": "code",
<<<<<<< HEAD
   "execution_count": 14,
=======
   "execution_count": 151,
>>>>>>> 021e036af8a452104ccd2b26946f07e7e3937c89
   "metadata": {},
   "outputs": [],
   "source": [
    "#Se dividen los datos en datos de entrenamiento y test 90% y 10% respectivamente\n",
    "X_train, X_test, y_train, y_test = train_test_split(data, response, test_size=0.1, random_state=10)"
   ]
  },
  {
   "cell_type": "code",
<<<<<<< HEAD
   "execution_count": 15,
=======
   "execution_count": 152,
>>>>>>> 021e036af8a452104ccd2b26946f07e7e3937c89
   "metadata": {},
   "outputs": [],
   "source": [
    "#Se dividen los datos de entrenamiento en datos de entrenamiento y validacion 80% y 20% respectivamente\n",
    "X_train, X_val, y_train, y_val = train_test_split(X_train, y_train, test_size=0.2, random_state=10)"
   ]
  },
  {
   "cell_type": "code",
<<<<<<< HEAD
   "execution_count": 16,
=======
   "execution_count": 153,
>>>>>>> 021e036af8a452104ccd2b26946f07e7e3937c89
   "metadata": {},
   "outputs": [],
   "source": [
    "#Se guardan los datos en archivos csv\n",
    "X_train.to_csv(\"../process_dataset/train_data.csv\", index=False)\n",
    "X_val.to_csv(\"../process_dataset/val_data.csv\", index=False)\n",
    "X_test.to_csv(\"../process_dataset/test_data.csv\", index=False)"
   ]
  },
  {
   "cell_type": "code",
<<<<<<< HEAD
   "execution_count": 17,
=======
   "execution_count": 154,
>>>>>>> 021e036af8a452104ccd2b26946f07e7e3937c89
   "metadata": {},
   "outputs": [],
   "source": [
    "#Se guardan los datos de respuesta en archivos csv\n",
    "with open(\"../process_dataset/y_train.npy\", 'wb') as doc_export:\n",
    "    np.save(doc_export, y_train)\n",
    "with open(\"../process_dataset/y_val.npy\", 'wb') as doc_export:\n",
    "    np.save(doc_export, y_val)\n",
    "with open(\"../process_dataset/y_test.npy\", 'wb') as doc_export:\n",
    "    np.save(doc_export, y_test)"
   ]
  },
  {
   "cell_type": "code",
<<<<<<< HEAD
   "execution_count": 18,
=======
   "execution_count": 155,
>>>>>>> 021e036af8a452104ccd2b26946f07e7e3937c89
   "metadata": {},
   "outputs": [
    {
     "data": {
      "text/plain": [
       "y_values\n",
       "Abnormal        13413\n",
       "Normal          13326\n",
       "Inconclusive    13221\n",
       "Name: count, dtype: int64"
      ]
     },
<<<<<<< HEAD
     "execution_count": 18,
=======
     "execution_count": 155,
>>>>>>> 021e036af8a452104ccd2b26946f07e7e3937c89
     "metadata": {},
     "output_type": "execute_result"
    }
   ],
   "source": [
    "df_counts = pd.DataFrame()\n",
    "df_counts[\"y_values\"] = y_train\n",
    "#Se verifican los datos de respuesta\n",
    "df_counts[\"y_values\"].value_counts()"
   ]
  }
 ],
 "metadata": {
  "kernelspec": {
   "display_name": "amp_class_models",
   "language": "python",
   "name": "python3"
  },
  "language_info": {
   "codemirror_mode": {
    "name": "ipython",
    "version": 3
   },
   "file_extension": ".py",
   "mimetype": "text/x-python",
   "name": "python",
   "nbconvert_exporter": "python",
   "pygments_lexer": "ipython3",
<<<<<<< HEAD
   "version": "3.12.4"
=======
   "version": "3.12.5"
>>>>>>> 021e036af8a452104ccd2b26946f07e7e3937c89
  },
  "orig_nbformat": 4,
  "vscode": {
   "interpreter": {
    "hash": "7083de4b0402f53e7c3ee94a03dce799a26de2893c2a83f7f50740b3282fcfd1"
   }
  }
 },
 "nbformat": 4,
 "nbformat_minor": 2
}
