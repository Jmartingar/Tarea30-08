{
 "cells": [
  {
   "cell_type": "code",
   "execution_count": 55,
   "metadata": {},
   "outputs": [],
   "source": [
    "import pandas as pd\n",
    "from joblib import load\n",
    "import numpy as np\n",
    "\n",
    "from sklearn.metrics import accuracy_score, recall_score, precision_score, f1_score, matthews_corrcoef, confusion_matrix"
   ]
  },
  {
   "cell_type": "code",
   "execution_count": 56,
   "metadata": {},
   "outputs": [],
   "source": [
    "model_list=[]\n",
    "scaler_list_val=[]\n",
    "scaler_list_test=[]"
   ]
  },
  {
   "cell_type": "code",
   "execution_count": 57,
   "metadata": {},
   "outputs": [],
   "source": [
    "scaler_instance_sta = load(\"../results/sta_scaler.joblib\")\n",
    "scaler_instance_rob = load(\"../results/rob_scaler.joblib\")\n",
    "scaler_instance_mm = load(\"../results/mm_scaler.joblib\")\n",
    "model_list.append(('Support Vector Machine', load(\"../results/svm_model.joblib\")))\n",
    "model_list.append(('Logistic Regression', load(\"../results/lr_model.joblib\")))\n",
    "model_list.append(('Random Forest', load(\"../results/rf_model.joblib\")))\n",
    "model_list.append(('K-Nearest Neighbors', load(\"../results/knn_model.joblib\")))\n",
    "model_list.append(('Decision Tree', load(\"../results/dt_model.joblib\")))\n",
    "model_list.append(('AdaBoost', load(\"../results/ab_model.joblib\")))"
   ]
  },
  {
   "cell_type": "code",
   "execution_count": 58,
   "metadata": {},
   "outputs": [],
   "source": [
    "#Se cargan los datos de validación y test\n",
    "val_data = pd.read_csv(\"../process_dataset/val_data.csv\")\n",
    "test_data = pd.read_csv(\"../process_dataset/test_data.csv\")\n",
    "\n",
    "y_val = np.load(\"../process_dataset/y_val.npy\", allow_pickle=True)\n",
    "y_test = np.load(\"../process_dataset/y_test.npy\", allow_pickle=True)"
   ]
  },
  {
   "cell_type": "code",
   "execution_count": 59,
   "metadata": {},
   "outputs": [],
   "source": [
    "#Se escalan los datos de validación y test\n",
    "scaler_list_val.append(('Standard Scaler Val', scaler_instance_sta.transform(val_data.values)))\n",
    "scaler_list_test.append(('Standard Scaler Test', scaler_instance_sta.transform(test_data.values)))\n",
    "scaler_list_val.append(('Robust Scaler Val', scaler_instance_rob.transform(val_data.values)))\n",
    "scaler_list_test.append(('Robust Scaler Test', scaler_instance_rob.transform(test_data.values)))\n",
    "scaler_list_val.append(('Min-Max Scaler Val', scaler_instance_mm.transform(val_data.values)))\n",
    "scaler_list_test.append(('Min-Max Scaler Test', scaler_instance_mm.transform(test_data.values)))"
   ]
  },
  {
   "cell_type": "code",
   "execution_count": 60,
   "metadata": {},
   "outputs": [
    {
     "name": "stderr",
     "output_type": "stream",
     "text": [
      "/home/jmartin/miniconda3/envs/ML_Class/lib/python3.12/site-packages/sklearn/base.py:493: UserWarning: X does not have valid feature names, but SVC was fitted with feature names\n",
      "  warnings.warn(\n"
     ]
    },
    {
     "name": "stdout",
     "output_type": "stream",
     "text": [
      "Accuracy:  0.32852852852852854\n",
      "Recall:  0.32852852852852854\n",
      "Precision:  0.3286551980143241\n",
      "F1:  0.32855842088367304\n",
      "MCC:  -0.007338477736802948\n",
      "Confusion Matrix: \n",
      " [[1137 1144 1181]\n",
      " [1100 1067 1066]\n",
      " [1132 1085 1078]]\n",
      "\n",
      "\n"
     ]
    },
    {
     "name": "stderr",
     "output_type": "stream",
     "text": [
      "/home/jmartin/miniconda3/envs/ML_Class/lib/python3.12/site-packages/sklearn/base.py:493: UserWarning: X does not have valid feature names, but SVC was fitted with feature names\n",
      "  warnings.warn(\n"
     ]
    },
    {
     "name": "stdout",
     "output_type": "stream",
     "text": [
      "Accuracy:  0.32982982982982983\n",
      "Recall:  0.32982982982982983\n",
      "Precision:  0.4333013617467824\n",
      "F1:  0.36521944171000115\n",
      "MCC:  -0.006360975833206958\n",
      "Confusion Matrix: \n",
      " [[1641 1648 1616]\n",
      " [1493 1420 1475]\n",
      " [ 235  228  234]]\n",
      "\n",
      "\n"
     ]
    },
    {
     "name": "stderr",
     "output_type": "stream",
     "text": [
      "/home/jmartin/miniconda3/envs/ML_Class/lib/python3.12/site-packages/sklearn/base.py:493: UserWarning: X does not have valid feature names, but SVC was fitted with feature names\n",
      "  warnings.warn(\n"
     ]
    },
    {
     "name": "stdout",
     "output_type": "stream",
     "text": [
      "Accuracy:  0.3316316316316316\n",
      "Recall:  0.3316316316316316\n",
      "Precision:  0.4660097521760196\n",
      "F1:  0.36973712828336763\n",
      "MCC:  -0.004965947427525461\n",
      "Confusion Matrix: \n",
      " [[2026 2024 1984]\n",
      " [1056 1009 1063]\n",
      " [ 287  263  278]]\n",
      "\n",
      "\n",
      "Accuracy:  0.3337337337337337\n",
      "Recall:  0.3337337337337337\n",
      "Precision:  0.3505067985150279\n",
      "F1:  0.3380729838384273\n",
      "MCC:  -0.0004476863588186351\n",
      "Confusion Matrix: \n",
      " [[1425 1456 1410]\n",
      " [ 817  787  793]\n",
      " [1127 1053 1122]]\n",
      "\n",
      "\n"
     ]
    },
    {
     "name": "stderr",
     "output_type": "stream",
     "text": [
      "/home/jmartin/miniconda3/envs/ML_Class/lib/python3.12/site-packages/sklearn/base.py:493: UserWarning: X does not have valid feature names, but LogisticRegression was fitted with feature names\n",
      "  warnings.warn(\n",
      "/home/jmartin/miniconda3/envs/ML_Class/lib/python3.12/site-packages/sklearn/base.py:493: UserWarning: X does not have valid feature names, but LogisticRegression was fitted with feature names\n",
      "  warnings.warn(\n"
     ]
    },
    {
     "name": "stdout",
     "output_type": "stream",
     "text": [
      "Accuracy:  0.33263263263263265\n",
      "Recall:  0.33263263263263265\n",
      "Precision:  0.4298868850261765\n",
      "F1:  0.35451641967193853\n",
      "MCC:  -0.003560630571366002\n",
      "Confusion Matrix: \n",
      " [[1968 1967 1986]\n",
      " [ 733  716  700]\n",
      " [ 668  613  639]]\n",
      "\n",
      "\n",
      "Accuracy:  0.3395395395395395\n",
      "Recall:  0.3395395395395395\n",
      "Precision:  0.5722886953330966\n"
     ]
    },
    {
     "name": "stderr",
     "output_type": "stream",
     "text": [
      "/home/jmartin/miniconda3/envs/ML_Class/lib/python3.12/site-packages/sklearn/base.py:493: UserWarning: X does not have valid feature names, but LogisticRegression was fitted with feature names\n",
      "  warnings.warn(\n",
      "/home/jmartin/miniconda3/envs/ML_Class/lib/python3.12/site-packages/sklearn/base.py:493: UserWarning: X does not have valid feature names, but RandomForestClassifier was fitted with feature names\n",
      "  warnings.warn(\n"
     ]
    },
    {
     "name": "stdout",
     "output_type": "stream",
     "text": [
      "F1:  0.39278541585863846\n",
      "MCC:  0.007068023101565792\n",
      "Confusion Matrix: \n",
      " [[2459 2401 2409]\n",
      " [ 317  340  323]\n",
      " [ 593  555  593]]\n",
      "\n",
      "\n",
      "Accuracy:  0.35535535535535534\n",
      "Recall:  0.35535535535535534\n",
      "Precision:  0.35559546312811\n",
      "F1:  0.3554440460013501\n",
      "MCC:  0.03291757397630367\n",
      "Confusion Matrix: \n",
      " [[1243 1131 1064]\n",
      " [1029 1115 1069]\n",
      " [1097 1050 1192]]\n",
      "\n",
      "\n"
     ]
    },
    {
     "name": "stderr",
     "output_type": "stream",
     "text": [
      "/home/jmartin/miniconda3/envs/ML_Class/lib/python3.12/site-packages/sklearn/base.py:493: UserWarning: X does not have valid feature names, but RandomForestClassifier was fitted with feature names\n",
      "  warnings.warn(\n",
      "/home/jmartin/miniconda3/envs/ML_Class/lib/python3.12/site-packages/sklearn/base.py:493: UserWarning: X does not have valid feature names, but RandomForestClassifier was fitted with feature names\n",
      "  warnings.warn(\n"
     ]
    },
    {
     "name": "stdout",
     "output_type": "stream",
     "text": [
      "Accuracy:  0.33633633633633636\n",
      "Recall:  0.33633633633633636\n",
      "Precision:  0.33724767346896545\n",
      "F1:  0.3366001591674406\n",
      "MCC:  0.004574278045868546\n",
      "Confusion Matrix: \n",
      " [[1157 1064 1121]\n",
      " [1148 1177 1178]\n",
      " [1064 1055 1026]]\n",
      "\n",
      "\n",
      "Accuracy:  0.3278278278278278\n",
      "Recall:  0.3278278278278278\n",
      "Precision:  0.3288370696789711\n",
      "F1:  0.32806893601610715\n",
      "MCC:  -0.008401286526589209\n",
      "Confusion Matrix: \n",
      " [[1186 1202 1170]\n",
      " [1156 1072 1138]\n",
      " [1027 1022 1017]]\n",
      "\n",
      "\n"
     ]
    },
    {
     "name": "stderr",
     "output_type": "stream",
     "text": [
      "/home/jmartin/miniconda3/envs/ML_Class/lib/python3.12/site-packages/sklearn/base.py:493: UserWarning: X does not have valid feature names, but KNeighborsClassifier was fitted with feature names\n",
      "  warnings.warn(\n"
     ]
    },
    {
     "name": "stdout",
     "output_type": "stream",
     "text": [
      "Accuracy:  0.35305305305305307\n",
      "Recall:  0.35305305305305307\n",
      "Precision:  0.3818257671254486\n",
      "F1:  0.360250843229022\n",
      "MCC:  0.02934679539248824\n",
      "Confusion Matrix: \n",
      " [[1609 1472 1502]\n",
      " [1032 1141 1046]\n",
      " [ 728  683  777]]\n",
      "\n",
      "\n"
     ]
    },
    {
     "name": "stderr",
     "output_type": "stream",
     "text": [
      "/home/jmartin/miniconda3/envs/ML_Class/lib/python3.12/site-packages/sklearn/base.py:493: UserWarning: X does not have valid feature names, but KNeighborsClassifier was fitted with feature names\n",
      "  warnings.warn(\n"
     ]
    },
    {
     "name": "stdout",
     "output_type": "stream",
     "text": [
      "Accuracy:  0.34074074074074073\n",
      "Recall:  0.34074074074074073\n",
      "Precision:  0.3696655774551049\n",
      "F1:  0.3481497922313085\n",
      "MCC:  0.010556024575402083\n",
      "Confusion Matrix: \n",
      " [[1550 1490 1503]\n",
      " [1129 1125 1093]\n",
      " [ 690  681  729]]\n",
      "\n",
      "\n"
     ]
    },
    {
     "name": "stderr",
     "output_type": "stream",
     "text": [
      "/home/jmartin/miniconda3/envs/ML_Class/lib/python3.12/site-packages/sklearn/base.py:493: UserWarning: X does not have valid feature names, but KNeighborsClassifier was fitted with feature names\n",
      "  warnings.warn(\n"
     ]
    },
    {
     "name": "stdout",
     "output_type": "stream",
     "text": [
      "Accuracy:  0.325025025025025\n",
      "Recall:  0.325025025025025\n",
      "Precision:  0.359023792631258\n",
      "F1:  0.334868545948836\n",
      "MCC:  -0.013591970015268785\n",
      "Confusion Matrix: \n",
      " [[1537 1502 1533]\n",
      " [1134 1091 1173]\n",
      " [ 698  703  619]]\n",
      "\n",
      "\n",
      "Accuracy:  0.342042042042042\n",
      "Recall:  0.342042042042042\n",
      "Precision:  0.3458155663340782\n",
      "F1:  0.34302468167624006\n",
      "MCC:  0.012727876635213487\n",
      "Confusion Matrix: \n",
      " [[1331 1265 1222]\n",
      " [1080 1059 1076]\n",
      " [ 958  972 1027]]\n",
      "\n",
      "\n",
      "Accuracy:  0.3342342342342342\n",
      "Recall:  0.3342342342342342\n"
     ]
    },
    {
     "name": "stderr",
     "output_type": "stream",
     "text": [
      "/home/jmartin/miniconda3/envs/ML_Class/lib/python3.12/site-packages/sklearn/base.py:493: UserWarning: X does not have valid feature names, but DecisionTreeClassifier was fitted with feature names\n",
      "  warnings.warn(\n",
      "/home/jmartin/miniconda3/envs/ML_Class/lib/python3.12/site-packages/sklearn/base.py:493: UserWarning: X does not have valid feature names, but DecisionTreeClassifier was fitted with feature names\n",
      "  warnings.warn(\n",
      "/home/jmartin/miniconda3/envs/ML_Class/lib/python3.12/site-packages/sklearn/base.py:493: UserWarning: X does not have valid feature names, but DecisionTreeClassifier was fitted with feature names\n",
      "  warnings.warn(\n"
     ]
    },
    {
     "name": "stdout",
     "output_type": "stream",
     "text": [
      "Precision:  0.3387954815988059\n",
      "F1:  0.3355186432075175\n",
      "MCC:  0.0009879986724568774\n",
      "Confusion Matrix: \n",
      " [[1313 1240 1280]\n",
      " [1097 1068 1087]\n",
      " [ 959  988  958]]\n",
      "\n",
      "\n",
      "Accuracy:  0.33993993993993993\n",
      "Recall:  0.33993993993993993\n",
      "Precision:  0.34341711286341337\n",
      "F1:  0.3407730226994818\n",
      "MCC:  0.009631259562236262\n",
      "Confusion Matrix: \n",
      " [[1279 1275 1230]\n",
      " [1081 1127 1105]\n",
      " [1009  894  990]]\n",
      "\n",
      "\n",
      "Accuracy:  0.33633633633633636\n",
      "Recall:  0.33633633633633636\n",
      "Precision:  0.3594343773692562\n"
     ]
    },
    {
     "name": "stderr",
     "output_type": "stream",
     "text": [
      "/home/jmartin/miniconda3/envs/ML_Class/lib/python3.12/site-packages/sklearn/base.py:493: UserWarning: X does not have valid feature names, but AdaBoostClassifier was fitted with feature names\n",
      "  warnings.warn(\n",
      "/home/jmartin/miniconda3/envs/ML_Class/lib/python3.12/site-packages/sklearn/base.py:493: UserWarning: X does not have valid feature names, but AdaBoostClassifier was fitted with feature names\n",
      "  warnings.warn(\n"
     ]
    },
    {
     "name": "stdout",
     "output_type": "stream",
     "text": [
      "F1:  0.3423643562867451\n",
      "MCC:  0.003358590244318516\n",
      "Confusion Matrix: \n",
      " [[1494 1483 1463]\n",
      " [ 758  745  741]\n",
      " [1117 1068 1121]]\n",
      "\n",
      "\n",
      "Accuracy:  0.33563563563563564\n",
      "Recall:  0.33563563563563564\n",
      "Precision:  0.45297045402488295\n",
      "F1:  0.36271703874935907\n",
      "MCC:  0.000928403900165239\n",
      "Confusion Matrix: \n",
      " [[2062 2021 2041]\n",
      " [ 516  533  526]\n",
      " [ 791  742  758]]\n",
      "\n",
      "\n",
      "Accuracy:  0.33863863863863863\n",
      "Recall:  0.33863863863863863\n",
      "Precision:  0.5981029860575806\n",
      "F1:  0.3970378783772768\n",
      "MCC:  0.005560789689737956\n",
      "Confusion Matrix: \n",
      " [[2539 2488 2479]\n",
      " [ 452  445  447]\n",
      " [ 378  363  399]]\n",
      "\n",
      "\n"
     ]
    },
    {
     "name": "stderr",
     "output_type": "stream",
     "text": [
      "/home/jmartin/miniconda3/envs/ML_Class/lib/python3.12/site-packages/sklearn/base.py:493: UserWarning: X does not have valid feature names, but AdaBoostClassifier was fitted with feature names\n",
      "  warnings.warn(\n"
     ]
    }
   ],
   "source": [
    "for i in model_list:\n",
    "    for j in scaler_list_val:\n",
    "        predict_val = i.predict(X=j)\n",
    "        print(\"Accuracy: \", accuracy_score(predict_val, y_val))\n",
    "        print(\"Recall: \", recall_score(predict_val, y_val, average='weighted'))\n",
    "        print(\"Precision: \", precision_score(predict_val, y_val, average='weighted'))\n",
    "        print(\"F1: \", f1_score(predict_val, y_val, average='weighted'))\n",
    "        print(\"MCC: \", matthews_corrcoef(predict_val, y_val))\n",
    "        print(\"Confusion Matrix: \\n\", confusion_matrix(predict_val, y_val))\n",
    "        print(\"\\n\")"
   ]
  },
  {
   "cell_type": "code",
   "execution_count": 61,
   "metadata": {},
   "outputs": [
    {
     "name": "stderr",
     "output_type": "stream",
     "text": [
      "/home/jmartin/miniconda3/envs/ML_Class/lib/python3.12/site-packages/sklearn/base.py:493: UserWarning: X does not have valid feature names, but SVC was fitted with feature names\n",
      "  warnings.warn(\n"
     ]
    },
    {
     "name": "stdout",
     "output_type": "stream",
     "text": [
      "Accuracy:  0.3504504504504504\n",
      "Recall:  0.3504504504504504\n",
      "Precision:  0.35149578779419155\n",
      "F1:  0.35075016552191063\n",
      "MCC:  0.025635835951300364\n",
      "Confusion Matrix: \n",
      " [[695 616 646]\n",
      " [555 599 569]\n",
      " [595 624 651]]\n",
      "\n",
      "\n"
     ]
    },
    {
     "name": "stderr",
     "output_type": "stream",
     "text": [
      "/home/jmartin/miniconda3/envs/ML_Class/lib/python3.12/site-packages/sklearn/base.py:493: UserWarning: X does not have valid feature names, but SVC was fitted with feature names\n",
      "  warnings.warn(\n"
     ]
    },
    {
     "name": "stdout",
     "output_type": "stream",
     "text": [
      "Accuracy:  0.34\n",
      "Recall:  0.34\n",
      "Precision:  0.4426434045729066\n",
      "F1:  0.37403279394773414\n",
      "MCC:  0.01258712131689221\n",
      "Confusion Matrix: \n",
      " [[931 893 920]\n",
      " [778 803 793]\n",
      " [136 143 153]]\n",
      "\n",
      "\n"
     ]
    },
    {
     "name": "stderr",
     "output_type": "stream",
     "text": [
      "/home/jmartin/miniconda3/envs/ML_Class/lib/python3.12/site-packages/sklearn/base.py:493: UserWarning: X does not have valid feature names, but SVC was fitted with feature names\n",
      "  warnings.warn(\n"
     ]
    },
    {
     "name": "stdout",
     "output_type": "stream",
     "text": [
      "Accuracy:  0.3436036036036036\n",
      "Recall:  0.3436036036036036\n",
      "Precision:  0.48531396220589673\n",
      "F1:  0.38240820697424865\n",
      "MCC:  0.01880861575776078\n",
      "Confusion Matrix: \n",
      " [[1157 1102 1109]\n",
      " [ 539  580  587]\n",
      " [ 149  157  170]]\n",
      "\n",
      "\n",
      "Accuracy:  0.3324324324324324\n",
      "Recall:  0.3324324324324324\n",
      "Precision:  0.3522614743412462\n",
      "F1:  0.33756309421278313\n",
      "MCC:  -0.0015523835579581817\n",
      "Confusion Matrix: \n",
      " [[789 796 814]\n",
      " [452 420 416]\n",
      " [604 623 636]]\n",
      "\n",
      "\n",
      "Accuracy:  0.3335135135135135\n",
      "Recall:  0.3335135135135135\n",
      "Precision:  0.4426104892863688\n",
      "F1:  0.35749677690964166\n",
      "MCC:  0.0009628901382544883\n",
      "Confusion Matrix: \n",
      " [[1111 1124 1114]\n",
      " [ 394  371  383]\n",
      " [ 340  344  369]]\n",
      "\n",
      "\n",
      "Accuracy:  0.3254054054054054\n",
      "Recall:  0.3254054054054054\n"
     ]
    },
    {
     "name": "stderr",
     "output_type": "stream",
     "text": [
      "/home/jmartin/miniconda3/envs/ML_Class/lib/python3.12/site-packages/sklearn/base.py:493: UserWarning: X does not have valid feature names, but LogisticRegression was fitted with feature names\n",
      "  warnings.warn(\n",
      "/home/jmartin/miniconda3/envs/ML_Class/lib/python3.12/site-packages/sklearn/base.py:493: UserWarning: X does not have valid feature names, but LogisticRegression was fitted with feature names\n",
      "  warnings.warn(\n",
      "/home/jmartin/miniconda3/envs/ML_Class/lib/python3.12/site-packages/sklearn/base.py:493: UserWarning: X does not have valid feature names, but LogisticRegression was fitted with feature names\n",
      "  warnings.warn(\n",
      "/home/jmartin/miniconda3/envs/ML_Class/lib/python3.12/site-packages/sklearn/base.py:493: UserWarning: X does not have valid feature names, but RandomForestClassifier was fitted with feature names\n",
      "  warnings.warn(\n"
     ]
    },
    {
     "name": "stdout",
     "output_type": "stream",
     "text": [
      "Precision:  0.5744639067906485\n",
      "F1:  0.38375935809558753\n",
      "MCC:  -0.014324365102771562\n",
      "Confusion Matrix: \n",
      " [[1347 1375 1375]\n",
      " [ 190  149  181]\n",
      " [ 308  315  310]]\n",
      "\n",
      "\n",
      "Accuracy:  0.35495495495495494\n",
      "Recall:  0.35495495495495494\n",
      "Precision:  0.35492899426836066\n",
      "F1:  0.35492081619332055\n",
      "MCC:  0.032459514850308895\n",
      "Confusion Matrix: \n",
      " [[661 633 575]\n",
      " [591 641 623]\n",
      " [593 565 668]]\n",
      "\n",
      "\n"
     ]
    },
    {
     "name": "stderr",
     "output_type": "stream",
     "text": [
      "/home/jmartin/miniconda3/envs/ML_Class/lib/python3.12/site-packages/sklearn/base.py:493: UserWarning: X does not have valid feature names, but RandomForestClassifier was fitted with feature names\n",
      "  warnings.warn(\n",
      "/home/jmartin/miniconda3/envs/ML_Class/lib/python3.12/site-packages/sklearn/base.py:493: UserWarning: X does not have valid feature names, but RandomForestClassifier was fitted with feature names\n",
      "  warnings.warn(\n"
     ]
    },
    {
     "name": "stdout",
     "output_type": "stream",
     "text": [
      "Accuracy:  0.32306306306306304\n",
      "Recall:  0.32306306306306304\n",
      "Precision:  0.32373384270535666\n",
      "F1:  0.3230786765422159\n",
      "MCC:  -0.015258090431146782\n",
      "Confusion Matrix: \n",
      " [[624 689 642]\n",
      " [653 591 646]\n",
      " [568 559 578]]\n",
      "\n",
      "\n",
      "Accuracy:  0.3311711711711712\n",
      "Recall:  0.3311711711711712\n",
      "Precision:  0.3331104461889122\n",
      "F1:  0.33168320636617904\n",
      "MCC:  -0.003046083818608281\n",
      "Confusion Matrix: \n",
      " [[663 652 653]\n",
      " [629 622 660]\n",
      " [553 565 553]]\n",
      "\n",
      "\n"
     ]
    },
    {
     "name": "stderr",
     "output_type": "stream",
     "text": [
      "/home/jmartin/miniconda3/envs/ML_Class/lib/python3.12/site-packages/sklearn/base.py:493: UserWarning: X does not have valid feature names, but KNeighborsClassifier was fitted with feature names\n",
      "  warnings.warn(\n"
     ]
    },
    {
     "name": "stdout",
     "output_type": "stream",
     "text": [
      "Accuracy:  0.36486486486486486\n",
      "Recall:  0.36486486486486486\n",
      "Precision:  0.3906613270804493\n",
      "F1:  0.3704650396635109\n",
      "MCC:  0.04892665846838404\n",
      "Confusion Matrix: \n",
      " [[879 817 794]\n",
      " [582 669 595]\n",
      " [384 353 477]]\n",
      "\n",
      "\n"
     ]
    },
    {
     "name": "stderr",
     "output_type": "stream",
     "text": [
      "/home/jmartin/miniconda3/envs/ML_Class/lib/python3.12/site-packages/sklearn/base.py:493: UserWarning: X does not have valid feature names, but KNeighborsClassifier was fitted with feature names\n",
      "  warnings.warn(\n"
     ]
    },
    {
     "name": "stdout",
     "output_type": "stream",
     "text": [
      "Accuracy:  0.34540540540540543\n",
      "Recall:  0.34540540540540543\n",
      "Precision:  0.3814443547400433\n",
      "F1:  0.35504474371472\n",
      "MCC:  0.019321440809767988\n",
      "Confusion Matrix: \n",
      " [[892 831 839]\n",
      " [571 639 641]\n",
      " [382 369 386]]\n",
      "\n",
      "\n"
     ]
    },
    {
     "name": "stderr",
     "output_type": "stream",
     "text": [
      "/home/jmartin/miniconda3/envs/ML_Class/lib/python3.12/site-packages/sklearn/base.py:493: UserWarning: X does not have valid feature names, but KNeighborsClassifier was fitted with feature names\n",
      "  warnings.warn(\n"
     ]
    },
    {
     "name": "stdout",
     "output_type": "stream",
     "text": [
      "Accuracy:  0.3466666666666667\n",
      "Recall:  0.3466666666666667\n",
      "Precision:  0.3815364414938821\n",
      "F1:  0.35613887247012327\n",
      "MCC:  0.02129602226472202\n",
      "Confusion Matrix: \n",
      " [[883 814 808]\n",
      " [607 655 672]\n",
      " [355 370 386]]\n",
      "\n",
      "\n",
      "Accuracy:  0.3466666666666667\n",
      "Recall:  0.3466666666666667\n",
      "Precision:  0.3484986310494133\n",
      "F1:  0.3469479878388014\n",
      "MCC:  0.020213853968457655\n",
      "Confusion Matrix: \n",
      " [[690 704 644]\n",
      " [585 634 622]\n",
      " [570 501 600]]\n",
      "\n",
      "\n",
      "Accuracy:  0.33513513513513515\n",
      "Recall:  0.33513513513513515\n",
      "Precision:  0.3407868406295849\n",
      "F1:  0.3362418051931974\n",
      "MCC:  0.0029348828815346302\n",
      "Confusion Matrix: \n",
      " [[713 722 772]\n",
      " [569 611 558]\n",
      " [563 506 536]]\n",
      "\n",
      "\n",
      "Accuracy:  0.32774774774774773\n",
      "Recall:  0.32774774774774773\n",
      "Precision:  0.3315843259557905\n",
      "F1:  0.32864916549839235\n",
      "MCC:  -0.008155001411942546\n",
      "Confusion Matrix: \n",
      " [[671 698 728]\n",
      " [608 624 614]\n",
      " [566 517 524]]\n",
      "\n",
      "\n",
      "Accuracy:  0.32432432432432434\n",
      "Recall:  0.32432432432432434\n"
     ]
    },
    {
     "name": "stderr",
     "output_type": "stream",
     "text": [
      "/home/jmartin/miniconda3/envs/ML_Class/lib/python3.12/site-packages/sklearn/base.py:493: UserWarning: X does not have valid feature names, but DecisionTreeClassifier was fitted with feature names\n",
      "  warnings.warn(\n",
      "/home/jmartin/miniconda3/envs/ML_Class/lib/python3.12/site-packages/sklearn/base.py:493: UserWarning: X does not have valid feature names, but DecisionTreeClassifier was fitted with feature names\n",
      "  warnings.warn(\n",
      "/home/jmartin/miniconda3/envs/ML_Class/lib/python3.12/site-packages/sklearn/base.py:493: UserWarning: X does not have valid feature names, but DecisionTreeClassifier was fitted with feature names\n",
      "  warnings.warn(\n",
      "/home/jmartin/miniconda3/envs/ML_Class/lib/python3.12/site-packages/sklearn/base.py:493: UserWarning: X does not have valid feature names, but AdaBoostClassifier was fitted with feature names\n",
      "  warnings.warn(\n",
      "/home/jmartin/miniconda3/envs/ML_Class/lib/python3.12/site-packages/sklearn/base.py:493: UserWarning: X does not have valid feature names, but AdaBoostClassifier was fitted with feature names\n",
      "  warnings.warn(\n"
     ]
    },
    {
     "name": "stdout",
     "output_type": "stream",
     "text": [
      "Precision:  0.3506130521840412\n",
      "F1:  0.3310857892618278\n",
      "MCC:  -0.013906486537744598\n",
      "Confusion Matrix: \n",
      " [[810 851 861]\n",
      " [456 386 401]\n",
      " [579 602 604]]\n",
      "\n",
      "\n",
      "Accuracy:  0.3318918918918919\n",
      "Recall:  0.3318918918918919\n",
      "Precision:  0.442166575534535\n",
      "F1:  0.356338834269069\n",
      "MCC:  -0.0020727091815002673\n",
      "Confusion Matrix: \n",
      " [[1097 1120 1144]\n",
      " [ 309  299  276]\n",
      " [ 439  420  446]]\n",
      "\n",
      "\n",
      "Accuracy:  0.32684684684684684\n",
      "Recall:  0.32684684684684684\n",
      "Precision:  0.5963841302551472\n",
      "F1:  0.388721082491876\n",
      "MCC:  -0.01136143184505715\n",
      "Confusion Matrix: \n",
      " [[1389 1390 1409]\n",
      " [ 258  223  255]\n",
      " [ 198  226  202]]\n",
      "\n",
      "\n"
     ]
    },
    {
     "name": "stderr",
     "output_type": "stream",
     "text": [
      "/home/jmartin/miniconda3/envs/ML_Class/lib/python3.12/site-packages/sklearn/base.py:493: UserWarning: X does not have valid feature names, but AdaBoostClassifier was fitted with feature names\n",
      "  warnings.warn(\n"
     ]
    }
   ],
   "source": [
    "for i in model_list:\n",
    "    for j in scaler_list_test:\n",
    "        predict_test = i.predict(X=j)\n",
    "        print(\"Accuracy: \", accuracy_score(predict_test, y_test))\n",
    "        print(\"Recall: \", recall_score(predict_test, y_test, average='weighted'))\n",
    "        print(\"Precision: \", precision_score(predict_test, y_test, average='weighted'))\n",
    "        print(\"F1: \", f1_score(predict_test, y_test, average='weighted'))\n",
    "        print(\"MCC: \", matthews_corrcoef(predict_test, y_test))\n",
    "        print(\"Confusion Matrix: \\n\", confusion_matrix(predict_test, y_test))\n",
    "        print(\"\\n\")"
   ]
  }
 ],
 "metadata": {
  "kernelspec": {
   "display_name": "amp_class_models",
   "language": "python",
   "name": "python3"
  },
  "language_info": {
   "codemirror_mode": {
    "name": "ipython",
    "version": 3
   },
   "file_extension": ".py",
   "mimetype": "text/x-python",
   "name": "python",
   "nbconvert_exporter": "python",
   "pygments_lexer": "ipython3",
   "version": "3.12.5"
  },
  "orig_nbformat": 4,
  "vscode": {
   "interpreter": {
    "hash": "7083de4b0402f53e7c3ee94a03dce799a26de2893c2a83f7f50740b3282fcfd1"
   }
  }
 },
 "nbformat": 4,
 "nbformat_minor": 2
}
