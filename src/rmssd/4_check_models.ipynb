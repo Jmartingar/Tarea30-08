{
 "cells": [
  {
   "cell_type": "code",
   "execution_count": 92,
   "metadata": {},
   "outputs": [],
   "source": [
    "import pandas as pd\n",
    "from joblib import load\n",
    "import numpy as np\n",
    "\n",
    "from sklearn.metrics import accuracy_score, recall_score, precision_score, f1_score, matthews_corrcoef, confusion_matrix"
   ]
  },
  {
   "cell_type": "code",
   "execution_count": 93,
   "metadata": {},
   "outputs": [],
   "source": [
    "scaler_instance = load(\"../../results/rmssd/sta_scaler.joblib\")\n",
    "svm_model = load(\"../../results/rmssd/svm_model.joblib\")\n",
    "lr_model = load(\"../../results/rmssd/lr_model.joblib\")\n",
    "rf_model = load(\"../../results/rmssd/rf_model.joblib\")\n",
    "knn_model = load(\"../../results/rmssd/knn_model.joblib\")\n",
    "dt_model = load(\"../../results/rmssd/dt_model.joblib\")\n",
    "ab_model = load(\"../../results/rmssd/ab_model.joblib\")"
   ]
  },
  {
   "cell_type": "code",
   "execution_count": 94,
   "metadata": {},
   "outputs": [],
   "source": [
    "val_data = pd.read_csv(\"../../process_dataset/rmssd/val_data.csv\")\n",
    "test_data = pd.read_csv(\"../../process_dataset/rmssd/test_data.csv\")\n",
    "\n",
    "y_val = np.load(\"../../process_dataset/rmssd/y_val.npy\", allow_pickle=True)\n",
    "y_test = np.load(\"../../process_dataset/rmssd/y_test.npy\", allow_pickle=True)"
   ]
  },
  {
   "cell_type": "code",
   "execution_count": 95,
   "metadata": {},
   "outputs": [],
   "source": [
    "val_data_scaler = scaler_instance.transform(val_data.values)\n",
    "test_data_scaler = scaler_instance.transform(test_data.values)"
   ]
  },
  {
   "cell_type": "code",
   "execution_count": 96,
   "metadata": {},
   "outputs": [
    {
     "name": "stderr",
     "output_type": "stream",
     "text": [
      "c:\\Users\\hantr\\anaconda3\\envs\\ML_Class\\Lib\\site-packages\\sklearn\\base.py:493: UserWarning: X does not have valid feature names, but SVC was fitted with feature names\n",
      "  warnings.warn(\n",
      "c:\\Users\\hantr\\anaconda3\\envs\\ML_Class\\Lib\\site-packages\\sklearn\\base.py:493: UserWarning: X does not have valid feature names, but SVC was fitted with feature names\n",
      "  warnings.warn(\n"
     ]
    }
   ],
   "source": [
    "predict_val_svm = svm_model.predict(X=val_data_scaler)\n",
    "predict_test_svm = svm_model.predict(X=test_data_scaler)"
   ]
  },
  {
   "cell_type": "code",
   "execution_count": 97,
   "metadata": {},
   "outputs": [
    {
     "name": "stderr",
     "output_type": "stream",
     "text": [
      "c:\\Users\\hantr\\anaconda3\\envs\\ML_Class\\Lib\\site-packages\\sklearn\\base.py:493: UserWarning: X does not have valid feature names, but LogisticRegression was fitted with feature names\n",
      "  warnings.warn(\n",
      "c:\\Users\\hantr\\anaconda3\\envs\\ML_Class\\Lib\\site-packages\\sklearn\\base.py:493: UserWarning: X does not have valid feature names, but LogisticRegression was fitted with feature names\n",
      "  warnings.warn(\n"
     ]
    }
   ],
   "source": [
    "predict_val_lr = lr_model.predict(X=val_data_scaler)\n",
    "predict_test_lr = lr_model.predict(X=test_data_scaler)"
   ]
  },
  {
   "cell_type": "code",
   "execution_count": 98,
   "metadata": {},
   "outputs": [
    {
     "name": "stderr",
     "output_type": "stream",
     "text": [
      "c:\\Users\\hantr\\anaconda3\\envs\\ML_Class\\Lib\\site-packages\\sklearn\\base.py:493: UserWarning: X does not have valid feature names, but RandomForestClassifier was fitted with feature names\n",
      "  warnings.warn(\n",
      "c:\\Users\\hantr\\anaconda3\\envs\\ML_Class\\Lib\\site-packages\\sklearn\\base.py:493: UserWarning: X does not have valid feature names, but RandomForestClassifier was fitted with feature names\n",
      "  warnings.warn(\n"
     ]
    }
   ],
   "source": [
    "predict_val_rf = rf_model.predict(X=val_data_scaler)\n",
    "predict_test_rf = rf_model.predict(X=test_data_scaler)"
   ]
  },
  {
   "cell_type": "code",
   "execution_count": 99,
   "metadata": {},
   "outputs": [
    {
     "name": "stderr",
     "output_type": "stream",
     "text": [
      "c:\\Users\\hantr\\anaconda3\\envs\\ML_Class\\Lib\\site-packages\\sklearn\\base.py:493: UserWarning: X does not have valid feature names, but KNeighborsClassifier was fitted with feature names\n",
      "  warnings.warn(\n",
      "c:\\Users\\hantr\\anaconda3\\envs\\ML_Class\\Lib\\site-packages\\sklearn\\base.py:493: UserWarning: X does not have valid feature names, but KNeighborsClassifier was fitted with feature names\n",
      "  warnings.warn(\n"
     ]
    }
   ],
   "source": [
    "predict_val_knn = knn_model.predict(X=val_data_scaler)\n",
    "predict_test_knn = knn_model.predict(X=test_data_scaler)"
   ]
  },
  {
   "cell_type": "code",
   "execution_count": 100,
   "metadata": {},
   "outputs": [
    {
     "name": "stderr",
     "output_type": "stream",
     "text": [
      "c:\\Users\\hantr\\anaconda3\\envs\\ML_Class\\Lib\\site-packages\\sklearn\\base.py:493: UserWarning: X does not have valid feature names, but DecisionTreeClassifier was fitted with feature names\n",
      "  warnings.warn(\n",
      "c:\\Users\\hantr\\anaconda3\\envs\\ML_Class\\Lib\\site-packages\\sklearn\\base.py:493: UserWarning: X does not have valid feature names, but DecisionTreeClassifier was fitted with feature names\n",
      "  warnings.warn(\n"
     ]
    }
   ],
   "source": [
    "predict_val_dt = dt_model.predict(X=val_data_scaler)\n",
    "predict_test_dt = dt_model.predict(X=test_data_scaler)"
   ]
  },
  {
   "cell_type": "code",
   "execution_count": 101,
   "metadata": {},
   "outputs": [
    {
     "name": "stderr",
     "output_type": "stream",
     "text": [
      "c:\\Users\\hantr\\anaconda3\\envs\\ML_Class\\Lib\\site-packages\\sklearn\\base.py:493: UserWarning: X does not have valid feature names, but AdaBoostClassifier was fitted with feature names\n",
      "  warnings.warn(\n",
      "c:\\Users\\hantr\\anaconda3\\envs\\ML_Class\\Lib\\site-packages\\sklearn\\base.py:493: UserWarning: X does not have valid feature names, but AdaBoostClassifier was fitted with feature names\n",
      "  warnings.warn(\n"
     ]
    }
   ],
   "source": [
    "predict_val_ab = ab_model.predict(X=val_data_scaler)\n",
    "predict_test_ab = ab_model.predict(X=test_data_scaler)"
   ]
  },
  {
   "cell_type": "code",
   "execution_count": 102,
   "metadata": {},
   "outputs": [
    {
     "data": {
      "text/plain": [
       "['Normal', 'Abnormal', 'Inconclusive']"
      ]
     },
     "execution_count": 102,
     "metadata": {},
     "output_type": "execute_result"
    }
   ],
   "source": [
    "list(set(y_val))"
   ]
  },
  {
   "cell_type": "code",
   "execution_count": 103,
   "metadata": {},
   "outputs": [
    {
     "data": {
      "text/plain": [
       "[0.32852852852852854,\n",
       " 0.32852852852852854,\n",
       " 0.32853490360163334,\n",
       " 0.328498636173384,\n",
       " -0.007338477736802948,\n",
       " array([[1137, 1100, 1132],\n",
       "        [1144, 1067, 1085],\n",
       "        [1181, 1066, 1078]], dtype=int64)]"
      ]
     },
     "execution_count": 103,
     "metadata": {},
     "output_type": "execute_result"
    }
   ],
   "source": [
    "acc_value = accuracy_score(y_pred=predict_val_svm, y_true=y_val) \n",
    "recall_value = recall_score(y_pred=predict_val_svm, y_true=y_val, average='weighted')\n",
    "precision_value = precision_score(y_pred=predict_val_svm, y_true=y_val, average='weighted') \n",
    "f1_value = f1_score(y_pred=predict_val_svm, y_true=y_val, average='weighted')\n",
    "mcc_value = matthews_corrcoef(y_pred=predict_val_svm, y_true=y_val)\n",
    "cm = confusion_matrix(y_pred=predict_val_svm, y_true=y_val)\n",
    "\n",
    "[acc_value, recall_value, precision_value, f1_value, mcc_value, cm]"
   ]
  },
  {
   "cell_type": "code",
   "execution_count": 104,
   "metadata": {},
   "outputs": [
    {
     "data": {
      "text/plain": [
       "[0.3337337337337337,\n",
       " 0.3337337337337337,\n",
       " 0.3334128063512958,\n",
       " 0.3293944836290401,\n",
       " -0.0004476863588186351,\n",
       " array([[1425,  817, 1127],\n",
       "        [1456,  787, 1053],\n",
       "        [1410,  793, 1122]], dtype=int64)]"
      ]
     },
     "execution_count": 104,
     "metadata": {},
     "output_type": "execute_result"
    }
   ],
   "source": [
    "acc_value = accuracy_score(y_pred=predict_val_lr, y_true=y_val) \n",
    "recall_value = recall_score(y_pred=predict_val_lr, y_true=y_val, average='weighted')\n",
    "precision_value = precision_score(y_pred=predict_val_lr, y_true=y_val, average='weighted') \n",
    "f1_value = f1_score(y_pred=predict_val_lr, y_true=y_val, average='weighted')\n",
    "mcc_value = matthews_corrcoef(y_pred=predict_val_lr, y_true=y_val)\n",
    "cm = confusion_matrix(y_pred=predict_val_lr, y_true=y_val)\n",
    "\n",
    "[acc_value, recall_value, precision_value, f1_value, mcc_value, cm]"
   ]
  },
  {
   "cell_type": "code",
   "execution_count": 105,
   "metadata": {},
   "outputs": [
    {
     "data": {
      "text/plain": [
       "[0.35477477477477476,\n",
       " 0.35477477477477476,\n",
       " 0.3548881900188515,\n",
       " 0.35481339749708535,\n",
       " 0.032186255993715225,\n",
       " array([[656, 592, 597],\n",
       "        [634, 643, 562],\n",
       "        [575, 621, 670]], dtype=int64)]"
      ]
     },
     "execution_count": 105,
     "metadata": {},
     "output_type": "execute_result"
    }
   ],
   "source": [
    "acc_value = accuracy_score(y_pred=predict_test_rf, y_true=y_test) \n",
    "recall_value = recall_score(y_pred=predict_test_rf, y_true=y_test, average='weighted')\n",
    "precision_value = precision_score(y_pred=predict_test_rf, y_true=y_test, average='weighted') \n",
    "f1_value = f1_score(y_pred=predict_test_rf, y_true=y_test, average='weighted')\n",
    "mcc_value = matthews_corrcoef(y_pred=predict_test_rf, y_true=y_test)\n",
    "cm = confusion_matrix(y_pred=predict_test_rf, y_true=y_test)\n",
    "\n",
    "[acc_value, recall_value, precision_value, f1_value, mcc_value, cm]"
   ]
  },
  {
   "cell_type": "code",
   "execution_count": 106,
   "metadata": {},
   "outputs": [
    {
     "data": {
      "text/plain": [
       "[0.3630630630630631,\n",
       " 0.3630630630630631,\n",
       " 0.36753367966231343,\n",
       " 0.3573589505114326,\n",
       " 0.04617448766495053,\n",
       " array([[879, 582, 384],\n",
       "        [820, 662, 357],\n",
       "        [798, 594, 474]], dtype=int64)]"
      ]
     },
     "execution_count": 106,
     "metadata": {},
     "output_type": "execute_result"
    }
   ],
   "source": [
    "acc_value = accuracy_score(y_pred=predict_test_knn, y_true=y_test) \n",
    "recall_value = recall_score(y_pred=predict_test_knn, y_true=y_test, average='weighted')\n",
    "precision_value = precision_score(y_pred=predict_test_knn, y_true=y_test, average='weighted') \n",
    "f1_value = f1_score(y_pred=predict_test_knn, y_true=y_test, average='weighted')\n",
    "mcc_value = matthews_corrcoef(y_pred=predict_test_knn, y_true=y_test)\n",
    "cm = confusion_matrix(y_pred=predict_test_knn, y_true=y_test)\n",
    "\n",
    "[acc_value, recall_value, precision_value, f1_value, mcc_value, cm]"
   ]
  },
  {
   "cell_type": "code",
   "execution_count": 107,
   "metadata": {},
   "outputs": [
    {
     "data": {
      "text/plain": [
       "[0.3472072072072072,\n",
       " 0.3472072072072072,\n",
       " 0.34771929423704345,\n",
       " 0.34693389363589,\n",
       " 0.021005897226804682,\n",
       " array([[688, 589, 568],\n",
       "        [686, 637, 516],\n",
       "        [643, 621, 602]], dtype=int64)]"
      ]
     },
     "execution_count": 107,
     "metadata": {},
     "output_type": "execute_result"
    }
   ],
   "source": [
    "acc_value = accuracy_score(y_pred=predict_test_dt, y_true=y_test) \n",
    "recall_value = recall_score(y_pred=predict_test_dt, y_true=y_test, average='weighted')\n",
    "precision_value = precision_score(y_pred=predict_test_dt, y_true=y_test, average='weighted') \n",
    "f1_value = f1_score(y_pred=predict_test_dt, y_true=y_test, average='weighted')\n",
    "mcc_value = matthews_corrcoef(y_pred=predict_test_dt, y_true=y_test)\n",
    "cm = confusion_matrix(y_pred=predict_test_dt, y_true=y_test)\n",
    "\n",
    "[acc_value, recall_value, precision_value, f1_value, mcc_value, cm]"
   ]
  },
  {
   "cell_type": "code",
   "execution_count": 108,
   "metadata": {},
   "outputs": [
    {
     "data": {
      "text/plain": [
       "[0.32432432432432434,\n",
       " 0.32432432432432434,\n",
       " 0.32343334822629866,\n",
       " 0.3175628593868209,\n",
       " -0.013906486537744598,\n",
       " array([[810, 456, 579],\n",
       "        [851, 386, 602],\n",
       "        [861, 401, 604]], dtype=int64)]"
      ]
     },
     "execution_count": 108,
     "metadata": {},
     "output_type": "execute_result"
    }
   ],
   "source": [
    "acc_value = accuracy_score(y_pred=predict_test_ab, y_true=y_test) \n",
    "recall_value = recall_score(y_pred=predict_test_ab, y_true=y_test, average='weighted')\n",
    "precision_value = precision_score(y_pred=predict_test_ab, y_true=y_test, average='weighted') \n",
    "f1_value = f1_score(y_pred=predict_test_ab, y_true=y_test, average='weighted')\n",
    "mcc_value = matthews_corrcoef(y_pred=predict_test_ab, y_true=y_test)\n",
    "cm = confusion_matrix(y_pred=predict_test_ab, y_true=y_test)\n",
    "\n",
    "[acc_value, recall_value, precision_value, f1_value, mcc_value, cm]"
   ]
  },
  {
   "cell_type": "code",
   "execution_count": 109,
   "metadata": {},
   "outputs": [
    {
     "name": "stderr",
     "output_type": "stream",
     "text": [
      "c:\\Users\\hantr\\anaconda3\\envs\\ML_Class\\Lib\\site-packages\\sklearn\\base.py:493: UserWarning: X does not have valid feature names, but RandomForestClassifier was fitted with feature names\n",
      "  warnings.warn(\n"
     ]
    },
    {
     "data": {
      "text/plain": [
       "array([[0.09666667, 0.57      , 0.33333333],\n",
       "       [0.11716667, 0.80283333, 0.08      ],\n",
       "       [0.24      , 0.05      , 0.71      ],\n",
       "       ...,\n",
       "       [0.162     , 0.48616667, 0.35183333],\n",
       "       [0.01      , 0.03      , 0.96      ],\n",
       "       [0.64      , 0.09      , 0.27      ]])"
      ]
     },
     "execution_count": 109,
     "metadata": {},
     "output_type": "execute_result"
    }
   ],
   "source": [
    "rf_model.predict_proba(X=test_data_scaler)"
   ]
  }
 ],
 "metadata": {
  "kernelspec": {
   "display_name": "amp_class_models",
   "language": "python",
   "name": "python3"
  },
  "language_info": {
   "codemirror_mode": {
    "name": "ipython",
    "version": 3
   },
   "file_extension": ".py",
   "mimetype": "text/x-python",
   "name": "python",
   "nbconvert_exporter": "python",
   "pygments_lexer": "ipython3",
   "version": "3.12.5"
  },
  "orig_nbformat": 4,
  "vscode": {
   "interpreter": {
    "hash": "7083de4b0402f53e7c3ee94a03dce799a26de2893c2a83f7f50740b3282fcfd1"
   }
  }
 },
 "nbformat": 4,
 "nbformat_minor": 2
}
